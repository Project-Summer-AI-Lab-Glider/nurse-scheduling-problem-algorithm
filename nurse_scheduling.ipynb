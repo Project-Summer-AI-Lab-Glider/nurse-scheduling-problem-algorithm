{
 "cells": [
  {
   "cell_type": "code",
   "execution_count": 39,
   "metadata": {},
   "outputs": [
    {
     "name": "stderr",
     "output_type": "stream",
     "text": [
      "WARNING: replacing module NurseSchedules.\n",
      "WARNING: using NurseSchedules.get_shifts in module Main conflicts with an existing identifier.\n",
      "WARNING: using NurseSchedules.Schedule in module Main conflicts with an existing identifier.\n",
      "WARNING: using NurseSchedules.get_month_info in module Main conflicts with an existing identifier.\n",
      "WARNING: using NurseSchedules.get_workers_info in module Main conflicts with an existing identifier.\n"
     ]
    },
    {
     "data": {
      "text/plain": [
       "ConsoleLogger(IJulia.IJuliaStdio{Base.PipeEndpoint}(IOContext(Base.PipeEndpoint(RawFD(0x0000002f) open, 0 bytes waiting))), Debug, Logging.default_metafmt, true, 0, Dict{Any,Int64}())"
      ]
     },
     "execution_count": 39,
     "metadata": {},
     "output_type": "execute_result"
    }
   ],
   "source": [
    "include(\"src/NursesScheduling.jl\")\n",
    "using .NurseSchedules\n",
    "using Logging\n",
    "\n",
    "logger = ConsoleLogger(stderr, Logging.Debug)"
   ]
  },
  {
   "cell_type": "code",
   "execution_count": 40,
   "metadata": {
    "scrolled": true
   },
   "outputs": [
    {
     "name": "stderr",
     "output_type": "stream",
     "text": [
      "┌ Info: Schedule loaded!\n",
      "└ @ Main.NurseSchedules /Users/maciek/Projects/nurse-scheduling-problem-algorithm/src/Schedule.jl:13\n"
     ]
    },
    {
     "data": {
      "text/plain": [
       "Schedule(Dict{String,Any}(\"shifts\" => Dict{String,Any}(\"nurse_2\" => Any[\"W\", \"D\", \"R\", \"N\", \"W\", \"D\", \"W\", \"N\", \"W\", \"N\"  …  \"W\", \"DN\", \"PN\", \"W\", \"DN\", \"W\", \"DN\", \"N\", \"W\", \"D\"],\"babysitter_1\" => Any[\"D\", \"N\", \"W\", \"W\", \"U\", \"U\", \"U\", \"U\", \"U\", \"U\"  …  \"W\", \"W\", \"N\", \"N\", \"W\", \"R\", \"DN\", \"W\", \"W\", \"W\"],\"babysitter_7\" => Any[\"N\", \"W\", \"D\", \"D\", \"N\", \"W\", \"DN\", \"W\", \"D\", \"D\"  …  \"U\", \"U\", \"U\", \"U\", \"U\", \"U\", \"U\", \"U\", \"U\", \"U\"],\"nurse_5\" => Any[\"W\", \"W\", \"W\", \"W\", \"N\", \"W\", \"W\", \"W\", \"W\", \"W\"  …  \"DN\", \"N\", \"R\", \"W\", \"PN\", \"W\", \"W\", \"W\", \"W\", \"W\"],\"babysitter_8\" => Any[\"L4\", \"L4\", \"L4\", \"L4\", \"L4\", \"L4\", \"L4\", \"L4\", \"L4\", \"L4\"  …  \"L4\", \"L4\", \"L4\", \"L4\", \"L4\", \"L4\", \"L4\", \"L4\", \"L4\", \"L4\"],\"babysitter_9\" => Any[\"N\", \"W\", \"D\", \"N\", \"N\", \"W\", \"D\", \"N\", \"W\", \"D\"  …  \"U\", \"U\", \"U\", \"U\", \"U\", \"U\", \"U\", \"U\", \"U\", \"U\"],\"nurse_1\" => Any[\"U\", \"U\", \"U\", \"U\", \"U\", \"D\", \"W\", \"R\", \"R\", \"W\"  …  \"DN\", \"W\", \"DN\", \"W\", \"D\", \"D\", \"W\", \"D\", \"W\", \"DN\"],\"babysitter_10\" => Any[\"W\", \"D\", \"W\", \"D\", \"D\", \"N\", \"N\", \"W\", \"D\", \"W\"  …  \"L4\", \"L4\", \"L4\", \"L4\", \"L4\", \"L4\", \"L4\", \"L4\", \"L4\", \"L4\"],\"nurse_6\" => Any[\"U\", \"U\", \"U\", \"U\", \"U\", \"U\", \"U\", \"U\", \"U\", \"U\"  …  \"W\", \"D\", \"DN\", \"N\", \"W\", \"DN\", \"W\", \"D\", \"W\", \"DN\"],\"babysitter_5\" => Any[\"N\", \"W\", \"N\", \"N\", \"W\", \"N\", \"W\", \"D\", \"P\", \"N\"  …  \"N\", \"W\", \"D\", \"W\", \"R\", \"W\", \"L4\", \"L4\", \"L4\", \"L4\"]…),\"schedule_info\" => Dict{String,Any}(\"UUID\" => \"\",\"month_number\" => 8,\"year\" => 2016),\"month_info\" => Dict{String,Any}(\"children_number\" => Any[12, 12, 12, 12, 12, 12, 12, 12, 12, 12  …  12, 12, 12, 12, 12, 12, 12, 12, 12, 12],\"days_of_week\" => Any[\"MO\", \"TU\", \"WE\", \"TH\", \"FR\", \"SA\", \"SU\", \"MO\", \"TU\", \"WE\"  …  \"FR\", \"SA\", \"SU\", \"MO\", \"TU\", \"WE\", \"TH\", \"FR\", \"SA\", \"SU\"],\"day_numbers\" => Any[1, 2, 3, 4, 5, 6, 7, 8, 9, 10  …  26, 27, 28, 29, 30, 31, 0, 0, 0, 0]),\"employee_info\" => Dict{String,Any}(\"time\" => Dict{String,Any}(\"nurse_2\" => \"FULL\",\"babysitter_1\" => \"FULL\",\"babysitter_7\" => \"HALF\",\"nurse_5\" => \"HALF\",\"babysitter_8\" => \"FULL\",\"babysitter_9\" => \"FULL\",\"nurse_1\" => \"FULL\",\"babysitter_10\" => \"HALF\",\"nurse_6\" => \"HALF\",\"babysitter_5\" => \"FULL\"…))))"
      ]
     },
     "execution_count": 40,
     "metadata": {},
     "output_type": "execute_result"
    }
   ],
   "source": [
    "nurse_schedule = Schedule(\"./schedules/schedule_2016_august.json\")"
   ]
  },
  {
   "cell_type": "code",
   "execution_count": 41,
   "metadata": {},
   "outputs": [
    {
     "data": {
      "text/plain": [
       "Dict{String,Any} with 1 entry:\n",
       "  \"time\" => Dict{String,Any}(\"nurse_2\"=>\"FULL\",\"babysitter_1\"=>\"FULL\",\"babysitt…"
      ]
     },
     "execution_count": 41,
     "metadata": {},
     "output_type": "execute_result"
    }
   ],
   "source": [
    "schedule_shifts = get_shifts(nurse_schedule)\n",
    "workers, shifts = schedule_shifts\n",
    "month_info = get_month_info(nurse_schedule)\n",
    "workers_info = get_workers_info(nurse_schedule)"
   ]
  },
  {
   "cell_type": "code",
   "execution_count": 42,
   "metadata": {},
   "outputs": [
    {
     "name": "stderr",
     "output_type": "stream",
     "text": [
      "\u001b[34m\u001b[1m┌ \u001b[22m\u001b[39m\u001b[34m\u001b[1mDebug: \u001b[22m\u001b[39mNeighbors number from addition: 1266\n",
      "\u001b[34m\u001b[1m└ \u001b[22m\u001b[39m\u001b[90m@ Main.NurseSchedules.Neighborhood_gen ~/Projects/nurse-scheduling-problem-algorithm/src/neighborhood.jl:14\u001b[39m\n",
      "\u001b[34m\u001b[1m┌ \u001b[22m\u001b[39m\u001b[34m\u001b[1mDebug: \u001b[22m\u001b[39mNeighbors number from deletion: 251\n",
      "\u001b[34m\u001b[1m└ \u001b[22m\u001b[39m\u001b[90m@ Main.NurseSchedules.Neighborhood_gen ~/Projects/nurse-scheduling-problem-algorithm/src/neighborhood.jl:16\u001b[39m\n",
      "\u001b[34m\u001b[1m┌ \u001b[22m\u001b[39m\u001b[34m\u001b[1mDebug: \u001b[22m\u001b[39mNeighbors number from swap: 572\n",
      "\u001b[34m\u001b[1m└ \u001b[22m\u001b[39m\u001b[90m@ Main.NurseSchedules.Neighborhood_gen ~/Projects/nurse-scheduling-problem-algorithm/src/neighborhood.jl:29\u001b[39m\n"
     ]
    },
    {
     "data": {
      "text/plain": [
       "2089"
      ]
     },
     "execution_count": 42,
     "metadata": {},
     "output_type": "execute_result"
    }
   ],
   "source": [
    "with_logger(logger) do\n",
    "    get_max_nbhd_size(nurse_schedule)\n",
    "end"
   ]
  },
  {
   "cell_type": "code",
   "execution_count": 43,
   "metadata": {},
   "outputs": [
    {
     "data": {
      "text/plain": [
       "2089"
      ]
     },
     "execution_count": 43,
     "metadata": {},
     "output_type": "execute_result"
    }
   ],
   "source": [
    "nbhd = Neighborhood(shifts)\n",
    "length(nbhd)"
   ]
  },
  {
   "cell_type": "code",
   "execution_count": 44,
   "metadata": {},
   "outputs": [
    {
     "name": "stderr",
     "output_type": "stream",
     "text": [
      "\u001b[34m\u001b[1m┌ \u001b[22m\u001b[39m\u001b[34m\u001b[1mDebug: \u001b[22m\u001b[39mLacking nurses on day '32'.\n",
      "\u001b[34m\u001b[1m│ \u001b[22m\u001b[39mExpected '4', got '3' in the day.\n",
      "\u001b[34m\u001b[1m└ \u001b[22m\u001b[39m\u001b[90m@ Main.NurseSchedules.ScheduleScore ~/Projects/nurse-scheduling-problem-algorithm/src/score.jl:60\u001b[39m\n",
      "\u001b[34m\u001b[1m┌ \u001b[22m\u001b[39m\u001b[34m\u001b[1mDebug: \u001b[22m\u001b[39mTotal lack of nurses penalty: 20\n",
      "\u001b[34m\u001b[1m└ \u001b[22m\u001b[39m\u001b[90m@ Main.NurseSchedules.ScheduleScore ~/Projects/nurse-scheduling-problem-algorithm/src/score.jl:64\u001b[39m\n",
      "\u001b[34m\u001b[1m┌ \u001b[22m\u001b[39m\u001b[34m\u001b[1mDebug: \u001b[22m\u001b[39mWorker 'nurse_2' has a disallowed shift sequence in day '27': DN -> PN\n",
      "\u001b[34m\u001b[1m└ \u001b[22m\u001b[39m\u001b[90m@ Main.NurseSchedules.ScheduleScore ~/Projects/nurse-scheduling-problem-algorithm/src/score.jl:85\u001b[39m\n",
      "\u001b[34m\u001b[1m┌ \u001b[22m\u001b[39m\u001b[34m\u001b[1mDebug: \u001b[22m\u001b[39mWorker 'nurse_2' has a disallowed shift sequence in day '32': DN -> N\n",
      "\u001b[34m\u001b[1m└ \u001b[22m\u001b[39m\u001b[90m@ Main.NurseSchedules.ScheduleScore ~/Projects/nurse-scheduling-problem-algorithm/src/score.jl:85\u001b[39m\n",
      "\u001b[34m\u001b[1m┌ \u001b[22m\u001b[39m\u001b[34m\u001b[1mDebug: \u001b[22m\u001b[39mWorker 'nurse_2' does not have a long break in week: '1'\n",
      "\u001b[34m\u001b[1m└ \u001b[22m\u001b[39m\u001b[90m@ Main.NurseSchedules.ScheduleScore ~/Projects/nurse-scheduling-problem-algorithm/src/score.jl:103\u001b[39m\n",
      "\u001b[34m\u001b[1m┌ \u001b[22m\u001b[39m\u001b[34m\u001b[1mDebug: \u001b[22m\u001b[39mWorker 'nurse_2' does not have a long break in week: '4'\n",
      "\u001b[34m\u001b[1m└ \u001b[22m\u001b[39m\u001b[90m@ Main.NurseSchedules.ScheduleScore ~/Projects/nurse-scheduling-problem-algorithm/src/score.jl:103\u001b[39m\n",
      "\u001b[34m\u001b[1m┌ \u001b[22m\u001b[39m\u001b[34m\u001b[1mDebug: \u001b[22m\u001b[39mWorker 'nurse_2' does not have a long break in week: '5'\n",
      "\u001b[34m\u001b[1m└ \u001b[22m\u001b[39m\u001b[90m@ Main.NurseSchedules.ScheduleScore ~/Projects/nurse-scheduling-problem-algorithm/src/score.jl:103\u001b[39m\n",
      "\u001b[34m\u001b[1m┌ \u001b[22m\u001b[39m\u001b[34m\u001b[1mDebug: \u001b[22m\u001b[39mWorker 'babysitter_1' does not have a long break in week: '1'\n",
      "\u001b[34m\u001b[1m└ \u001b[22m\u001b[39m\u001b[90m@ Main.NurseSchedules.ScheduleScore ~/Projects/nurse-scheduling-problem-algorithm/src/score.jl:103\u001b[39m\n",
      "\u001b[34m\u001b[1m┌ \u001b[22m\u001b[39m\u001b[34m\u001b[1mDebug: \u001b[22m\u001b[39mWorker 'babysitter_1' does not have a long break in week: '2'\n",
      "\u001b[34m\u001b[1m└ \u001b[22m\u001b[39m\u001b[90m@ Main.NurseSchedules.ScheduleScore ~/Projects/nurse-scheduling-problem-algorithm/src/score.jl:103\u001b[39m\n",
      "\u001b[34m\u001b[1m┌ \u001b[22m\u001b[39m\u001b[34m\u001b[1mDebug: \u001b[22m\u001b[39mWorker 'babysitter_1' does not have a long break in week: '3'\n",
      "\u001b[34m\u001b[1m└ \u001b[22m\u001b[39m\u001b[90m@ Main.NurseSchedules.ScheduleScore ~/Projects/nurse-scheduling-problem-algorithm/src/score.jl:103\u001b[39m\n",
      "\u001b[34m\u001b[1m┌ \u001b[22m\u001b[39m\u001b[34m\u001b[1mDebug: \u001b[22m\u001b[39mWorker 'babysitter_1' does not have a long break in week: '5'\n",
      "\u001b[34m\u001b[1m└ \u001b[22m\u001b[39m\u001b[90m@ Main.NurseSchedules.ScheduleScore ~/Projects/nurse-scheduling-problem-algorithm/src/score.jl:103\u001b[39m\n",
      "\u001b[34m\u001b[1m┌ \u001b[22m\u001b[39m\u001b[34m\u001b[1mDebug: \u001b[22m\u001b[39mWorker 'babysitter_7' has a disallowed shift sequence in day '13': DN -> N\n",
      "\u001b[34m\u001b[1m└ \u001b[22m\u001b[39m\u001b[90m@ Main.NurseSchedules.ScheduleScore ~/Projects/nurse-scheduling-problem-algorithm/src/score.jl:85\u001b[39m\n",
      "\u001b[34m\u001b[1m┌ \u001b[22m\u001b[39m\u001b[34m\u001b[1mDebug: \u001b[22m\u001b[39mWorker 'babysitter_7' does not have a long break in week: '1'\n",
      "\u001b[34m\u001b[1m└ \u001b[22m\u001b[39m\u001b[90m@ Main.NurseSchedules.ScheduleScore ~/Projects/nurse-scheduling-problem-algorithm/src/score.jl:103\u001b[39m\n",
      "\u001b[34m\u001b[1m┌ \u001b[22m\u001b[39m\u001b[34m\u001b[1mDebug: \u001b[22m\u001b[39mWorker 'babysitter_7' does not have a long break in week: '2'\n",
      "\u001b[34m\u001b[1m└ \u001b[22m\u001b[39m\u001b[90m@ Main.NurseSchedules.ScheduleScore ~/Projects/nurse-scheduling-problem-algorithm/src/score.jl:103\u001b[39m\n",
      "\u001b[34m\u001b[1m┌ \u001b[22m\u001b[39m\u001b[34m\u001b[1mDebug: \u001b[22m\u001b[39mWorker 'babysitter_7' does not have a long break in week: '3'\n",
      "\u001b[34m\u001b[1m└ \u001b[22m\u001b[39m\u001b[90m@ Main.NurseSchedules.ScheduleScore ~/Projects/nurse-scheduling-problem-algorithm/src/score.jl:103\u001b[39m\n",
      "\u001b[34m\u001b[1m┌ \u001b[22m\u001b[39m\u001b[34m\u001b[1mDebug: \u001b[22m\u001b[39mWorker 'babysitter_7' does not have a long break in week: '4'\n",
      "\u001b[34m\u001b[1m└ \u001b[22m\u001b[39m\u001b[90m@ Main.NurseSchedules.ScheduleScore ~/Projects/nurse-scheduling-problem-algorithm/src/score.jl:103\u001b[39m\n",
      "\u001b[34m\u001b[1m┌ \u001b[22m\u001b[39m\u001b[34m\u001b[1mDebug: \u001b[22m\u001b[39mWorker 'babysitter_7' does not have a long break in week: '5'\n",
      "\u001b[34m\u001b[1m└ \u001b[22m\u001b[39m\u001b[90m@ Main.NurseSchedules.ScheduleScore ~/Projects/nurse-scheduling-problem-algorithm/src/score.jl:103\u001b[39m\n",
      "\u001b[34m\u001b[1m┌ \u001b[22m\u001b[39m\u001b[34m\u001b[1mDebug: \u001b[22m\u001b[39mWorker 'nurse_5' has a disallowed shift sequence in day '26': DN -> N\n",
      "\u001b[34m\u001b[1m└ \u001b[22m\u001b[39m\u001b[90m@ Main.NurseSchedules.ScheduleScore ~/Projects/nurse-scheduling-problem-algorithm/src/score.jl:85\u001b[39m\n",
      "\u001b[34m\u001b[1m┌ \u001b[22m\u001b[39m\u001b[34m\u001b[1mDebug: \u001b[22m\u001b[39mWorker 'nurse_5' has a disallowed shift sequence in day '27': N -> R\n",
      "\u001b[34m\u001b[1m└ \u001b[22m\u001b[39m\u001b[90m@ Main.NurseSchedules.ScheduleScore ~/Projects/nurse-scheduling-problem-algorithm/src/score.jl:85\u001b[39m\n",
      "\u001b[34m\u001b[1m┌ \u001b[22m\u001b[39m\u001b[34m\u001b[1mDebug: \u001b[22m\u001b[39mWorker 'nurse_5' does not have a long break in week: '2'\n",
      "\u001b[34m\u001b[1m└ \u001b[22m\u001b[39m\u001b[90m@ Main.NurseSchedules.ScheduleScore ~/Projects/nurse-scheduling-problem-algorithm/src/score.jl:103\u001b[39m\n",
      "\u001b[34m\u001b[1m┌ \u001b[22m\u001b[39m\u001b[34m\u001b[1mDebug: \u001b[22m\u001b[39mWorker 'nurse_5' does not have a long break in week: '3'\n",
      "\u001b[34m\u001b[1m└ \u001b[22m\u001b[39m\u001b[90m@ Main.NurseSchedules.ScheduleScore ~/Projects/nurse-scheduling-problem-algorithm/src/score.jl:103\u001b[39m\n",
      "\u001b[34m\u001b[1m┌ \u001b[22m\u001b[39m\u001b[34m\u001b[1mDebug: \u001b[22m\u001b[39mWorker 'babysitter_8' does not have a long break in week: '1'\n",
      "\u001b[34m\u001b[1m└ \u001b[22m\u001b[39m\u001b[90m@ Main.NurseSchedules.ScheduleScore ~/Projects/nurse-scheduling-problem-algorithm/src/score.jl:103\u001b[39m\n",
      "\u001b[34m\u001b[1m┌ \u001b[22m\u001b[39m\u001b[34m\u001b[1mDebug: \u001b[22m\u001b[39mWorker 'babysitter_8' does not have a long break in week: '2'\n",
      "\u001b[34m\u001b[1m└ \u001b[22m\u001b[39m\u001b[90m@ Main.NurseSchedules.ScheduleScore ~/Projects/nurse-scheduling-problem-algorithm/src/score.jl:103\u001b[39m\n",
      "\u001b[34m\u001b[1m┌ \u001b[22m\u001b[39m\u001b[34m\u001b[1mDebug: \u001b[22m\u001b[39mWorker 'babysitter_8' does not have a long break in week: '3'\n",
      "\u001b[34m\u001b[1m└ \u001b[22m\u001b[39m\u001b[90m@ Main.NurseSchedules.ScheduleScore ~/Projects/nurse-scheduling-problem-algorithm/src/score.jl:103\u001b[39m\n",
      "\u001b[34m\u001b[1m┌ \u001b[22m\u001b[39m\u001b[34m\u001b[1mDebug: \u001b[22m\u001b[39mWorker 'babysitter_8' does not have a long break in week: '4'\n",
      "\u001b[34m\u001b[1m└ \u001b[22m\u001b[39m\u001b[90m@ Main.NurseSchedules.ScheduleScore ~/Projects/nurse-scheduling-problem-algorithm/src/score.jl:103\u001b[39m\n",
      "\u001b[34m\u001b[1m┌ \u001b[22m\u001b[39m\u001b[34m\u001b[1mDebug: \u001b[22m\u001b[39mWorker 'babysitter_8' does not have a long break in week: '5'\n",
      "\u001b[34m\u001b[1m└ \u001b[22m\u001b[39m\u001b[90m@ Main.NurseSchedules.ScheduleScore ~/Projects/nurse-scheduling-problem-algorithm/src/score.jl:103\u001b[39m\n",
      "\u001b[34m\u001b[1m┌ \u001b[22m\u001b[39m\u001b[34m\u001b[1mDebug: \u001b[22m\u001b[39mWorker 'babysitter_9' has a disallowed shift sequence in day '11': N -> P\n",
      "\u001b[34m\u001b[1m└ \u001b[22m\u001b[39m\u001b[90m@ Main.NurseSchedules.ScheduleScore ~/Projects/nurse-scheduling-problem-algorithm/src/score.jl:85\u001b[39m\n",
      "\u001b[34m\u001b[1m┌ \u001b[22m\u001b[39m\u001b[34m\u001b[1mDebug: \u001b[22m\u001b[39mWorker 'babysitter_9' does not have a long break in week: '1'\n",
      "\u001b[34m\u001b[1m└ \u001b[22m\u001b[39m\u001b[90m@ Main.NurseSchedules.ScheduleScore ~/Projects/nurse-scheduling-problem-algorithm/src/score.jl:103\u001b[39m\n",
      "\u001b[34m\u001b[1m┌ \u001b[22m\u001b[39m\u001b[34m\u001b[1mDebug: \u001b[22m\u001b[39mWorker 'babysitter_9' does not have a long break in week: '2'\n",
      "\u001b[34m\u001b[1m└ \u001b[22m\u001b[39m\u001b[90m@ Main.NurseSchedules.ScheduleScore ~/Projects/nurse-scheduling-problem-algorithm/src/score.jl:103\u001b[39m\n",
      "\u001b[34m\u001b[1m┌ \u001b[22m\u001b[39m\u001b[34m\u001b[1mDebug: \u001b[22m\u001b[39mWorker 'babysitter_9' does not have a long break in week: '3'\n",
      "\u001b[34m\u001b[1m└ \u001b[22m\u001b[39m\u001b[90m@ Main.NurseSchedules.ScheduleScore ~/Projects/nurse-scheduling-problem-algorithm/src/score.jl:103\u001b[39m\n",
      "\u001b[34m\u001b[1m┌ \u001b[22m\u001b[39m\u001b[34m\u001b[1mDebug: \u001b[22m\u001b[39mWorker 'babysitter_9' does not have a long break in week: '4'\n",
      "\u001b[34m\u001b[1m└ \u001b[22m\u001b[39m\u001b[90m@ Main.NurseSchedules.ScheduleScore ~/Projects/nurse-scheduling-problem-algorithm/src/score.jl:103\u001b[39m\n",
      "\u001b[34m\u001b[1m┌ \u001b[22m\u001b[39m\u001b[34m\u001b[1mDebug: \u001b[22m\u001b[39mWorker 'babysitter_9' does not have a long break in week: '5'\n",
      "\u001b[34m\u001b[1m└ \u001b[22m\u001b[39m\u001b[90m@ Main.NurseSchedules.ScheduleScore ~/Projects/nurse-scheduling-problem-algorithm/src/score.jl:103\u001b[39m\n",
      "\u001b[34m\u001b[1m┌ \u001b[22m\u001b[39m\u001b[34m\u001b[1mDebug: \u001b[22m\u001b[39mWorker 'nurse_1' does not have a long break in week: '1'\n",
      "\u001b[34m\u001b[1m└ \u001b[22m\u001b[39m\u001b[90m@ Main.NurseSchedules.ScheduleScore ~/Projects/nurse-scheduling-problem-algorithm/src/score.jl:103\u001b[39m\n",
      "\u001b[34m\u001b[1m┌ \u001b[22m\u001b[39m\u001b[34m\u001b[1mDebug: \u001b[22m\u001b[39mWorker 'nurse_1' does not have a long break in week: '2'\n",
      "\u001b[34m\u001b[1m└ \u001b[22m\u001b[39m\u001b[90m@ Main.NurseSchedules.ScheduleScore ~/Projects/nurse-scheduling-problem-algorithm/src/score.jl:103\u001b[39m\n",
      "\u001b[34m\u001b[1m┌ \u001b[22m\u001b[39m\u001b[34m\u001b[1mDebug: \u001b[22m\u001b[39mWorker 'nurse_1' does not have a long break in week: '3'\n",
      "\u001b[34m\u001b[1m└ \u001b[22m\u001b[39m\u001b[90m@ Main.NurseSchedules.ScheduleScore ~/Projects/nurse-scheduling-problem-algorithm/src/score.jl:103\u001b[39m\n",
      "\u001b[34m\u001b[1m┌ \u001b[22m\u001b[39m\u001b[34m\u001b[1mDebug: \u001b[22m\u001b[39mWorker 'nurse_1' does not have a long break in week: '4'\n",
      "\u001b[34m\u001b[1m└ \u001b[22m\u001b[39m\u001b[90m@ Main.NurseSchedules.ScheduleScore ~/Projects/nurse-scheduling-problem-algorithm/src/score.jl:103\u001b[39m\n",
      "\u001b[34m\u001b[1m┌ \u001b[22m\u001b[39m\u001b[34m\u001b[1mDebug: \u001b[22m\u001b[39mWorker 'nurse_1' does not have a long break in week: '5'\n",
      "\u001b[34m\u001b[1m└ \u001b[22m\u001b[39m\u001b[90m@ Main.NurseSchedules.ScheduleScore ~/Projects/nurse-scheduling-problem-algorithm/src/score.jl:103\u001b[39m\n",
      "\u001b[34m\u001b[1m┌ \u001b[22m\u001b[39m\u001b[34m\u001b[1mDebug: \u001b[22m\u001b[39mWorker 'babysitter_10' does not have a long break in week: '1'\n",
      "\u001b[34m\u001b[1m└ \u001b[22m\u001b[39m\u001b[90m@ Main.NurseSchedules.ScheduleScore ~/Projects/nurse-scheduling-problem-algorithm/src/score.jl:103\u001b[39m\n",
      "\u001b[34m\u001b[1m┌ \u001b[22m\u001b[39m\u001b[34m\u001b[1mDebug: \u001b[22m\u001b[39mWorker 'babysitter_10' does not have a long break in week: '3'\n",
      "\u001b[34m\u001b[1m└ \u001b[22m\u001b[39m\u001b[90m@ Main.NurseSchedules.ScheduleScore ~/Projects/nurse-scheduling-problem-algorithm/src/score.jl:103\u001b[39m\n",
      "\u001b[34m\u001b[1m┌ \u001b[22m\u001b[39m\u001b[34m\u001b[1mDebug: \u001b[22m\u001b[39mWorker 'babysitter_10' does not have a long break in week: '4'\n",
      "\u001b[34m\u001b[1m└ \u001b[22m\u001b[39m\u001b[90m@ Main.NurseSchedules.ScheduleScore ~/Projects/nurse-scheduling-problem-algorithm/src/score.jl:103\u001b[39m\n",
      "\u001b[34m\u001b[1m┌ \u001b[22m\u001b[39m\u001b[34m\u001b[1mDebug: \u001b[22m\u001b[39mWorker 'babysitter_10' does not have a long break in week: '5'\n",
      "\u001b[34m\u001b[1m└ \u001b[22m\u001b[39m\u001b[90m@ Main.NurseSchedules.ScheduleScore ~/Projects/nurse-scheduling-problem-algorithm/src/score.jl:103\u001b[39m\n",
      "\u001b[34m\u001b[1m┌ \u001b[22m\u001b[39m\u001b[34m\u001b[1mDebug: \u001b[22m\u001b[39mWorker 'nurse_6' has a disallowed shift sequence in day '28': DN -> N\n",
      "\u001b[34m\u001b[1m└ \u001b[22m\u001b[39m\u001b[90m@ Main.NurseSchedules.ScheduleScore ~/Projects/nurse-scheduling-problem-algorithm/src/score.jl:85\u001b[39m\n",
      "\u001b[34m\u001b[1m┌ \u001b[22m\u001b[39m\u001b[34m\u001b[1mDebug: \u001b[22m\u001b[39mWorker 'nurse_6' does not have a long break in week: '1'\n",
      "\u001b[34m\u001b[1m└ \u001b[22m\u001b[39m\u001b[90m@ Main.NurseSchedules.ScheduleScore ~/Projects/nurse-scheduling-problem-algorithm/src/score.jl:103\u001b[39m\n",
      "\u001b[34m\u001b[1m┌ \u001b[22m\u001b[39m\u001b[34m\u001b[1mDebug: \u001b[22m\u001b[39mWorker 'nurse_6' does not have a long break in week: '2'\n",
      "\u001b[34m\u001b[1m└ \u001b[22m\u001b[39m\u001b[90m@ Main.NurseSchedules.ScheduleScore ~/Projects/nurse-scheduling-problem-algorithm/src/score.jl:103\u001b[39m\n"
     ]
    },
    {
     "name": "stderr",
     "output_type": "stream",
     "text": [
      "\u001b[34m\u001b[1m┌ \u001b[22m\u001b[39m\u001b[34m\u001b[1mDebug: \u001b[22m\u001b[39mWorker 'nurse_6' does not have a long break in week: '4'\n",
      "\u001b[34m\u001b[1m└ \u001b[22m\u001b[39m\u001b[90m@ Main.NurseSchedules.ScheduleScore ~/Projects/nurse-scheduling-problem-algorithm/src/score.jl:103\u001b[39m\n",
      "\u001b[34m\u001b[1m┌ \u001b[22m\u001b[39m\u001b[34m\u001b[1mDebug: \u001b[22m\u001b[39mWorker 'nurse_6' does not have a long break in week: '5'\n",
      "\u001b[34m\u001b[1m└ \u001b[22m\u001b[39m\u001b[90m@ Main.NurseSchedules.ScheduleScore ~/Projects/nurse-scheduling-problem-algorithm/src/score.jl:103\u001b[39m\n",
      "\u001b[34m\u001b[1m┌ \u001b[22m\u001b[39m\u001b[34m\u001b[1mDebug: \u001b[22m\u001b[39mWorker 'babysitter_5' does not have a long break in week: '2'\n",
      "\u001b[34m\u001b[1m└ \u001b[22m\u001b[39m\u001b[90m@ Main.NurseSchedules.ScheduleScore ~/Projects/nurse-scheduling-problem-algorithm/src/score.jl:103\u001b[39m\n",
      "\u001b[34m\u001b[1m┌ \u001b[22m\u001b[39m\u001b[34m\u001b[1mDebug: \u001b[22m\u001b[39mWorker 'babysitter_5' does not have a long break in week: '3'\n",
      "\u001b[34m\u001b[1m└ \u001b[22m\u001b[39m\u001b[90m@ Main.NurseSchedules.ScheduleScore ~/Projects/nurse-scheduling-problem-algorithm/src/score.jl:103\u001b[39m\n",
      "\u001b[34m\u001b[1m┌ \u001b[22m\u001b[39m\u001b[34m\u001b[1mDebug: \u001b[22m\u001b[39mWorker 'babysitter_5' does not have a long break in week: '4'\n",
      "\u001b[34m\u001b[1m└ \u001b[22m\u001b[39m\u001b[90m@ Main.NurseSchedules.ScheduleScore ~/Projects/nurse-scheduling-problem-algorithm/src/score.jl:103\u001b[39m\n",
      "\u001b[34m\u001b[1m┌ \u001b[22m\u001b[39m\u001b[34m\u001b[1mDebug: \u001b[22m\u001b[39mWorker 'babysitter_5' does not have a long break in week: '5'\n",
      "\u001b[34m\u001b[1m└ \u001b[22m\u001b[39m\u001b[90m@ Main.NurseSchedules.ScheduleScore ~/Projects/nurse-scheduling-problem-algorithm/src/score.jl:103\u001b[39m\n",
      "\u001b[34m\u001b[1m┌ \u001b[22m\u001b[39m\u001b[34m\u001b[1mDebug: \u001b[22m\u001b[39mWorker 'nurse_8' does not have a long break in week: '1'\n",
      "\u001b[34m\u001b[1m└ \u001b[22m\u001b[39m\u001b[90m@ Main.NurseSchedules.ScheduleScore ~/Projects/nurse-scheduling-problem-algorithm/src/score.jl:103\u001b[39m\n",
      "\u001b[34m\u001b[1m┌ \u001b[22m\u001b[39m\u001b[34m\u001b[1mDebug: \u001b[22m\u001b[39mWorker 'nurse_8' does not have a long break in week: '2'\n",
      "\u001b[34m\u001b[1m└ \u001b[22m\u001b[39m\u001b[90m@ Main.NurseSchedules.ScheduleScore ~/Projects/nurse-scheduling-problem-algorithm/src/score.jl:103\u001b[39m\n",
      "\u001b[34m\u001b[1m┌ \u001b[22m\u001b[39m\u001b[34m\u001b[1mDebug: \u001b[22m\u001b[39mWorker 'nurse_8' does not have a long break in week: '4'\n",
      "\u001b[34m\u001b[1m└ \u001b[22m\u001b[39m\u001b[90m@ Main.NurseSchedules.ScheduleScore ~/Projects/nurse-scheduling-problem-algorithm/src/score.jl:103\u001b[39m\n",
      "\u001b[34m\u001b[1m┌ \u001b[22m\u001b[39m\u001b[34m\u001b[1mDebug: \u001b[22m\u001b[39mWorker 'nurse_8' does not have a long break in week: '5'\n",
      "\u001b[34m\u001b[1m└ \u001b[22m\u001b[39m\u001b[90m@ Main.NurseSchedules.ScheduleScore ~/Projects/nurse-scheduling-problem-algorithm/src/score.jl:103\u001b[39m\n",
      "\u001b[34m\u001b[1m┌ \u001b[22m\u001b[39m\u001b[34m\u001b[1mDebug: \u001b[22m\u001b[39mWorker 'nurse_4' does not have a long break in week: '1'\n",
      "\u001b[34m\u001b[1m└ \u001b[22m\u001b[39m\u001b[90m@ Main.NurseSchedules.ScheduleScore ~/Projects/nurse-scheduling-problem-algorithm/src/score.jl:103\u001b[39m\n",
      "\u001b[34m\u001b[1m┌ \u001b[22m\u001b[39m\u001b[34m\u001b[1mDebug: \u001b[22m\u001b[39mWorker 'nurse_4' does not have a long break in week: '2'\n",
      "\u001b[34m\u001b[1m└ \u001b[22m\u001b[39m\u001b[90m@ Main.NurseSchedules.ScheduleScore ~/Projects/nurse-scheduling-problem-algorithm/src/score.jl:103\u001b[39m\n",
      "\u001b[34m\u001b[1m┌ \u001b[22m\u001b[39m\u001b[34m\u001b[1mDebug: \u001b[22m\u001b[39mWorker 'nurse_4' does not have a long break in week: '3'\n",
      "\u001b[34m\u001b[1m└ \u001b[22m\u001b[39m\u001b[90m@ Main.NurseSchedules.ScheduleScore ~/Projects/nurse-scheduling-problem-algorithm/src/score.jl:103\u001b[39m\n",
      "\u001b[34m\u001b[1m┌ \u001b[22m\u001b[39m\u001b[34m\u001b[1mDebug: \u001b[22m\u001b[39mWorker 'nurse_4' does not have a long break in week: '4'\n",
      "\u001b[34m\u001b[1m└ \u001b[22m\u001b[39m\u001b[90m@ Main.NurseSchedules.ScheduleScore ~/Projects/nurse-scheduling-problem-algorithm/src/score.jl:103\u001b[39m\n",
      "\u001b[34m\u001b[1m┌ \u001b[22m\u001b[39m\u001b[34m\u001b[1mDebug: \u001b[22m\u001b[39mWorker 'nurse_3' has a disallowed shift sequence in day '10': DN -> N\n",
      "\u001b[34m\u001b[1m└ \u001b[22m\u001b[39m\u001b[90m@ Main.NurseSchedules.ScheduleScore ~/Projects/nurse-scheduling-problem-algorithm/src/score.jl:85\u001b[39m\n",
      "\u001b[34m\u001b[1m┌ \u001b[22m\u001b[39m\u001b[34m\u001b[1mDebug: \u001b[22m\u001b[39mWorker 'nurse_3' has a disallowed shift sequence in day '13': DN -> N\n",
      "\u001b[34m\u001b[1m└ \u001b[22m\u001b[39m\u001b[90m@ Main.NurseSchedules.ScheduleScore ~/Projects/nurse-scheduling-problem-algorithm/src/score.jl:85\u001b[39m\n",
      "\u001b[34m\u001b[1m┌ \u001b[22m\u001b[39m\u001b[34m\u001b[1mDebug: \u001b[22m\u001b[39mWorker 'nurse_3' has a disallowed shift sequence in day '19': DN -> N\n",
      "\u001b[34m\u001b[1m└ \u001b[22m\u001b[39m\u001b[90m@ Main.NurseSchedules.ScheduleScore ~/Projects/nurse-scheduling-problem-algorithm/src/score.jl:85\u001b[39m\n",
      "\u001b[34m\u001b[1m┌ \u001b[22m\u001b[39m\u001b[34m\u001b[1mDebug: \u001b[22m\u001b[39mWorker 'nurse_3' has a disallowed shift sequence in day '23': DN -> N\n",
      "\u001b[34m\u001b[1m└ \u001b[22m\u001b[39m\u001b[90m@ Main.NurseSchedules.ScheduleScore ~/Projects/nurse-scheduling-problem-algorithm/src/score.jl:85\u001b[39m\n",
      "\u001b[34m\u001b[1m┌ \u001b[22m\u001b[39m\u001b[34m\u001b[1mDebug: \u001b[22m\u001b[39mWorker 'nurse_3' does not have a long break in week: '1'\n",
      "\u001b[34m\u001b[1m└ \u001b[22m\u001b[39m\u001b[90m@ Main.NurseSchedules.ScheduleScore ~/Projects/nurse-scheduling-problem-algorithm/src/score.jl:103\u001b[39m\n",
      "\u001b[34m\u001b[1m┌ \u001b[22m\u001b[39m\u001b[34m\u001b[1mDebug: \u001b[22m\u001b[39mWorker 'nurse_3' does not have a long break in week: '2'\n",
      "\u001b[34m\u001b[1m└ \u001b[22m\u001b[39m\u001b[90m@ Main.NurseSchedules.ScheduleScore ~/Projects/nurse-scheduling-problem-algorithm/src/score.jl:103\u001b[39m\n",
      "\u001b[34m\u001b[1m┌ \u001b[22m\u001b[39m\u001b[34m\u001b[1mDebug: \u001b[22m\u001b[39mWorker 'nurse_3' does not have a long break in week: '3'\n",
      "\u001b[34m\u001b[1m└ \u001b[22m\u001b[39m\u001b[90m@ Main.NurseSchedules.ScheduleScore ~/Projects/nurse-scheduling-problem-algorithm/src/score.jl:103\u001b[39m\n",
      "\u001b[34m\u001b[1m┌ \u001b[22m\u001b[39m\u001b[34m\u001b[1mDebug: \u001b[22m\u001b[39mWorker 'nurse_3' does not have a long break in week: '4'\n",
      "\u001b[34m\u001b[1m└ \u001b[22m\u001b[39m\u001b[90m@ Main.NurseSchedules.ScheduleScore ~/Projects/nurse-scheduling-problem-algorithm/src/score.jl:103\u001b[39m\n",
      "\u001b[34m\u001b[1m┌ \u001b[22m\u001b[39m\u001b[34m\u001b[1mDebug: \u001b[22m\u001b[39mWorker 'babysitter_6' does not have a long break in week: '5'\n",
      "\u001b[34m\u001b[1m└ \u001b[22m\u001b[39m\u001b[90m@ Main.NurseSchedules.ScheduleScore ~/Projects/nurse-scheduling-problem-algorithm/src/score.jl:103\u001b[39m\n",
      "\u001b[34m\u001b[1m┌ \u001b[22m\u001b[39m\u001b[34m\u001b[1mDebug: \u001b[22m\u001b[39mWorker 'babysitter_2' does not have a long break in week: '1'\n",
      "\u001b[34m\u001b[1m└ \u001b[22m\u001b[39m\u001b[90m@ Main.NurseSchedules.ScheduleScore ~/Projects/nurse-scheduling-problem-algorithm/src/score.jl:103\u001b[39m\n",
      "\u001b[34m\u001b[1m┌ \u001b[22m\u001b[39m\u001b[34m\u001b[1mDebug: \u001b[22m\u001b[39mWorker 'babysitter_2' does not have a long break in week: '2'\n",
      "\u001b[34m\u001b[1m└ \u001b[22m\u001b[39m\u001b[90m@ Main.NurseSchedules.ScheduleScore ~/Projects/nurse-scheduling-problem-algorithm/src/score.jl:103\u001b[39m\n",
      "\u001b[34m\u001b[1m┌ \u001b[22m\u001b[39m\u001b[34m\u001b[1mDebug: \u001b[22m\u001b[39mWorker 'babysitter_2' does not have a long break in week: '3'\n",
      "\u001b[34m\u001b[1m└ \u001b[22m\u001b[39m\u001b[90m@ Main.NurseSchedules.ScheduleScore ~/Projects/nurse-scheduling-problem-algorithm/src/score.jl:103\u001b[39m\n",
      "\u001b[34m\u001b[1m┌ \u001b[22m\u001b[39m\u001b[34m\u001b[1mDebug: \u001b[22m\u001b[39mWorker 'babysitter_2' does not have a long break in week: '4'\n",
      "\u001b[34m\u001b[1m└ \u001b[22m\u001b[39m\u001b[90m@ Main.NurseSchedules.ScheduleScore ~/Projects/nurse-scheduling-problem-algorithm/src/score.jl:103\u001b[39m\n",
      "\u001b[34m\u001b[1m┌ \u001b[22m\u001b[39m\u001b[34m\u001b[1mDebug: \u001b[22m\u001b[39mWorker 'babysitter_2' does not have a long break in week: '5'\n",
      "\u001b[34m\u001b[1m└ \u001b[22m\u001b[39m\u001b[90m@ Main.NurseSchedules.ScheduleScore ~/Projects/nurse-scheduling-problem-algorithm/src/score.jl:103\u001b[39m\n",
      "\u001b[34m\u001b[1m┌ \u001b[22m\u001b[39m\u001b[34m\u001b[1mDebug: \u001b[22m\u001b[39mWorker 'nurse_9' has a disallowed shift sequence in day '28': DN -> N\n",
      "\u001b[34m\u001b[1m└ \u001b[22m\u001b[39m\u001b[90m@ Main.NurseSchedules.ScheduleScore ~/Projects/nurse-scheduling-problem-algorithm/src/score.jl:85\u001b[39m\n",
      "\u001b[34m\u001b[1m┌ \u001b[22m\u001b[39m\u001b[34m\u001b[1mDebug: \u001b[22m\u001b[39mWorker 'nurse_9' does not have a long break in week: '1'\n",
      "\u001b[34m\u001b[1m└ \u001b[22m\u001b[39m\u001b[90m@ Main.NurseSchedules.ScheduleScore ~/Projects/nurse-scheduling-problem-algorithm/src/score.jl:103\u001b[39m\n",
      "\u001b[34m\u001b[1m┌ \u001b[22m\u001b[39m\u001b[34m\u001b[1mDebug: \u001b[22m\u001b[39mWorker 'nurse_9' does not have a long break in week: '2'\n",
      "\u001b[34m\u001b[1m└ \u001b[22m\u001b[39m\u001b[90m@ Main.NurseSchedules.ScheduleScore ~/Projects/nurse-scheduling-problem-algorithm/src/score.jl:103\u001b[39m\n",
      "\u001b[34m\u001b[1m┌ \u001b[22m\u001b[39m\u001b[34m\u001b[1mDebug: \u001b[22m\u001b[39mWorker 'nurse_9' does not have a long break in week: '3'\n",
      "\u001b[34m\u001b[1m└ \u001b[22m\u001b[39m\u001b[90m@ Main.NurseSchedules.ScheduleScore ~/Projects/nurse-scheduling-problem-algorithm/src/score.jl:103\u001b[39m\n",
      "\u001b[34m\u001b[1m┌ \u001b[22m\u001b[39m\u001b[34m\u001b[1mDebug: \u001b[22m\u001b[39mWorker 'nurse_9' does not have a long break in week: '4'\n",
      "\u001b[34m\u001b[1m└ \u001b[22m\u001b[39m\u001b[90m@ Main.NurseSchedules.ScheduleScore ~/Projects/nurse-scheduling-problem-algorithm/src/score.jl:103\u001b[39m\n",
      "\u001b[34m\u001b[1m┌ \u001b[22m\u001b[39m\u001b[34m\u001b[1mDebug: \u001b[22m\u001b[39mWorker 'nurse_9' does not have a long break in week: '5'\n",
      "\u001b[34m\u001b[1m└ \u001b[22m\u001b[39m\u001b[90m@ Main.NurseSchedules.ScheduleScore ~/Projects/nurse-scheduling-problem-algorithm/src/score.jl:103\u001b[39m\n",
      "\u001b[34m\u001b[1m┌ \u001b[22m\u001b[39m\u001b[34m\u001b[1mDebug: \u001b[22m\u001b[39mWorker 'nurse_7' does not have a long break in week: '2'\n",
      "\u001b[34m\u001b[1m└ \u001b[22m\u001b[39m\u001b[90m@ Main.NurseSchedules.ScheduleScore ~/Projects/nurse-scheduling-problem-algorithm/src/score.jl:103\u001b[39m\n",
      "\u001b[34m\u001b[1m┌ \u001b[22m\u001b[39m\u001b[34m\u001b[1mDebug: \u001b[22m\u001b[39mWorker 'nurse_7' does not have a long break in week: '3'\n",
      "\u001b[34m\u001b[1m└ \u001b[22m\u001b[39m\u001b[90m@ Main.NurseSchedules.ScheduleScore ~/Projects/nurse-scheduling-problem-algorithm/src/score.jl:103\u001b[39m\n",
      "\u001b[34m\u001b[1m┌ \u001b[22m\u001b[39m\u001b[34m\u001b[1mDebug: \u001b[22m\u001b[39mWorker 'babysitter_3' does not have a long break in week: '1'\n",
      "\u001b[34m\u001b[1m└ \u001b[22m\u001b[39m\u001b[90m@ Main.NurseSchedules.ScheduleScore ~/Projects/nurse-scheduling-problem-algorithm/src/score.jl:103\u001b[39m\n",
      "\u001b[34m\u001b[1m┌ \u001b[22m\u001b[39m\u001b[34m\u001b[1mDebug: \u001b[22m\u001b[39mWorker 'babysitter_3' does not have a long break in week: '2'\n",
      "\u001b[34m\u001b[1m└ \u001b[22m\u001b[39m\u001b[90m@ Main.NurseSchedules.ScheduleScore ~/Projects/nurse-scheduling-problem-algorithm/src/score.jl:103\u001b[39m\n",
      "\u001b[34m\u001b[1m┌ \u001b[22m\u001b[39m\u001b[34m\u001b[1mDebug: \u001b[22m\u001b[39mWorker 'babysitter_3' does not have a long break in week: '3'\n",
      "\u001b[34m\u001b[1m└ \u001b[22m\u001b[39m\u001b[90m@ Main.NurseSchedules.ScheduleScore ~/Projects/nurse-scheduling-problem-algorithm/src/score.jl:103\u001b[39m\n",
      "\u001b[34m\u001b[1m┌ \u001b[22m\u001b[39m\u001b[34m\u001b[1mDebug: \u001b[22m\u001b[39mWorker 'babysitter_4' has a disallowed shift sequence in day '14': DN -> N\n",
      "\u001b[34m\u001b[1m└ \u001b[22m\u001b[39m\u001b[90m@ Main.NurseSchedules.ScheduleScore ~/Projects/nurse-scheduling-problem-algorithm/src/score.jl:85\u001b[39m\n",
      "\u001b[34m\u001b[1m┌ \u001b[22m\u001b[39m\u001b[34m\u001b[1mDebug: \u001b[22m\u001b[39mWorker 'babysitter_4' has a disallowed shift sequence in day '23': DN -> N\n",
      "\u001b[34m\u001b[1m└ \u001b[22m\u001b[39m\u001b[90m@ Main.NurseSchedules.ScheduleScore ~/Projects/nurse-scheduling-problem-algorithm/src/score.jl:85\u001b[39m\n",
      "\u001b[34m\u001b[1m┌ \u001b[22m\u001b[39m\u001b[34m\u001b[1mDebug: \u001b[22m\u001b[39mWorker 'babysitter_4' does not have a long break in week: '1'\n",
      "\u001b[34m\u001b[1m└ \u001b[22m\u001b[39m\u001b[90m@ Main.NurseSchedules.ScheduleScore ~/Projects/nurse-scheduling-problem-algorithm/src/score.jl:103\u001b[39m\n",
      "\u001b[34m\u001b[1m┌ \u001b[22m\u001b[39m\u001b[34m\u001b[1mDebug: \u001b[22m\u001b[39mWorker 'babysitter_4' does not have a long break in week: '2'\n",
      "\u001b[34m\u001b[1m└ \u001b[22m\u001b[39m\u001b[90m@ Main.NurseSchedules.ScheduleScore ~/Projects/nurse-scheduling-problem-algorithm/src/score.jl:103\u001b[39m\n",
      "\u001b[34m\u001b[1m┌ \u001b[22m\u001b[39m\u001b[34m\u001b[1mDebug: \u001b[22m\u001b[39mWorker 'babysitter_4' does not have a long break in week: '3'\n",
      "\u001b[34m\u001b[1m└ \u001b[22m\u001b[39m\u001b[90m@ Main.NurseSchedules.ScheduleScore ~/Projects/nurse-scheduling-problem-algorithm/src/score.jl:103\u001b[39m\n"
     ]
    },
    {
     "name": "stderr",
     "output_type": "stream",
     "text": [
      "\u001b[34m\u001b[1m┌ \u001b[22m\u001b[39m\u001b[34m\u001b[1mDebug: \u001b[22m\u001b[39mWorker 'babysitter_4' does not have a long break in week: '4'\n",
      "\u001b[34m\u001b[1m└ \u001b[22m\u001b[39m\u001b[90m@ Main.NurseSchedules.ScheduleScore ~/Projects/nurse-scheduling-problem-algorithm/src/score.jl:103\u001b[39m\n",
      "\u001b[34m\u001b[1m┌ \u001b[22m\u001b[39m\u001b[34m\u001b[1mDebug: \u001b[22m\u001b[39mWorker 'babysitter_4' does not have a long break in week: '5'\n",
      "\u001b[34m\u001b[1m└ \u001b[22m\u001b[39m\u001b[90m@ Main.NurseSchedules.ScheduleScore ~/Projects/nurse-scheduling-problem-algorithm/src/score.jl:103\u001b[39m\n",
      "\u001b[34m\u001b[1m┌ \u001b[22m\u001b[39m\u001b[34m\u001b[1mDebug: \u001b[22m\u001b[39mHard constraints are not met, charging additional penalty: '771'\n",
      "\u001b[34m\u001b[1m└ \u001b[22m\u001b[39m\u001b[90m@ Main.NurseSchedules.ScheduleScore ~/Projects/nurse-scheduling-problem-algorithm/src/score.jl:17\u001b[39m\n"
     ]
    },
    {
     "data": {
      "text/plain": [
       "1545"
      ]
     },
     "execution_count": 44,
     "metadata": {},
     "output_type": "execute_result"
    }
   ],
   "source": [
    "with_logger(logger) do\n",
    "    global schedule_score = score(schedule_shifts, month_info, workers_info)\n",
    "end"
   ]
  },
  {
   "cell_type": "code",
   "execution_count": 45,
   "metadata": {},
   "outputs": [
    {
     "data": {
      "text/plain": [
       "([\"W\" \"D\" … \"W\" \"D\"; \"D\" \"N\" … \"W\" \"W\"; … ; \"D\" \"N\" … \"N\" \"W\"; \"D\" \"N\" … \"DN\" \"W\"], 1545)"
      ]
     },
     "execution_count": 45,
     "metadata": {},
     "output_type": "execute_result"
    }
   ],
   "source": [
    "ITERATION_NUM = 1000\n",
    "best_shifts = (shifts, schedule_score)"
   ]
  },
  {
   "cell_type": "code",
   "execution_count": null,
   "metadata": {},
   "outputs": [
    {
     "name": "stdout",
     "output_type": "stream",
     "text": [
      "Improved from 1545 to 1525 in iteration '1'\n",
      "Improved from 1525 to 1514 in iteration '2'\n",
      "Improved from 1514 to 1503 in iteration '3'\n",
      "Improved from 1503 to 1492 in iteration '4'\n",
      "Improved from 1492 to 1482 in iteration '5'\n",
      "Improved from 1482 to 1472 in iteration '6'\n",
      "Improved from 1472 to 1462 in iteration '7'\n",
      "Improved from 1462 to 1452 in iteration '8'\n",
      "Improved from 1452 to 1442 in iteration '9'\n",
      "Improved from 1442 to 1432 in iteration '10'\n",
      "Improved from 1432 to 1422 in iteration '11'\n",
      "Improved from 1422 to 1412 in iteration '12'\n",
      "Improved from 1412 to 1402 in iteration '13'\n",
      "Improved from 1402 to 1392 in iteration '14'\n",
      "Improved from 1392 to 1382 in iteration '15'\n",
      "Improved from 1382 to 1372 in iteration '16'\n",
      "Improved from 1372 to 1362 in iteration '17'\n",
      "Improved from 1362 to 1352 in iteration '18'\n",
      "Improved from 1352 to 1342 in iteration '19'\n",
      "Improved from 1342 to 1332 in iteration '20'\n",
      "Improved from 1332 to 1322 in iteration '21'\n",
      "Improved from 1322 to 1312 in iteration '22'\n",
      "Improved from 1312 to 1302 in iteration '23'\n",
      "Improved from 1302 to 1292 in iteration '24'\n",
      "Improved from 1292 to 1282 in iteration '25'\n",
      "Improved from 1282 to 1272 in iteration '26'\n",
      "Improved from 1272 to 1262 in iteration '27'\n",
      "Improved from 1262 to 1252 in iteration '28'\n",
      "Improved from 1252 to 1242 in iteration '29'\n",
      "Improved from 1242 to 1232 in iteration '30'\n",
      "Improved from 1232 to 1222 in iteration '31'\n",
      "Improved from 1222 to 1212 in iteration '32'\n",
      "Improved from 1212 to 1202 in iteration '33'\n",
      "Improved from 1202 to 1192 in iteration '34'\n",
      "Improved from 1192 to 1182 in iteration '35'\n",
      "Improved from 1182 to 1172 in iteration '36'\n",
      "Improved from 1172 to 1162 in iteration '37'\n",
      "Improved from 1162 to 1152 in iteration '38'\n",
      "Improved from 1152 to 1142 in iteration '39'\n",
      "Improved from 1142 to 1132 in iteration '40'\n",
      "Improved from 1132 to 1122 in iteration '41'\n",
      "Improved from 1122 to 1112 in iteration '42'\n",
      "Improved from 1112 to 1102 in iteration '43'\n",
      "Improved from 1102 to 1093 in iteration '44'\n",
      "Improved from 1093 to 1084 in iteration '45'\n",
      "Improved from 1084 to 1075 in iteration '46'\n",
      "Improved from 1075 to 1066 in iteration '47'\n",
      "Improved from 1066 to 1057 in iteration '48'\n",
      "Improved from 1057 to 1048 in iteration '49'\n",
      "Improved from 1048 to 1039 in iteration '50'\n",
      "Improved from 1039 to 1030 in iteration '51'\n",
      "Improved from 1030 to 1029 in iteration '52'\n",
      "Improved from 1029 to 1028 in iteration '53'\n",
      "Improved from 1028 to 1027 in iteration '54'\n",
      "Improved from 1027 to 1026 in iteration '55'\n",
      "Improved from 1026 to 1025 in iteration '56'\n",
      "Improved from 1025 to 1024 in iteration '57'\n",
      "Improved from 1024 to 1023 in iteration '58'\n",
      "Improved from 1023 to 1022 in iteration '59'\n",
      "Improved from 1022 to 1021 in iteration '60'\n",
      "Improved from 1021 to 1020 in iteration '61'\n",
      "Improved from 1020 to 1019 in iteration '62'\n",
      "Improved from 1019 to 1018 in iteration '63'\n",
      "Improved from 1018 to 1017 in iteration '64'\n",
      "Improved from 1017 to 1016 in iteration '65'\n",
      "Improved from 1016 to 1006 in iteration '71'\n",
      "Improved from 1006 to 1005 in iteration '72'\n",
      "Improved from 1005 to 996 in iteration '81'\n",
      "Improved from 996 to 995 in iteration '89'\n",
      "Improved from 995 to 985 in iteration '103'\n",
      "Improved from 985 to 984 in iteration '123'\n",
      "Improved from 984 to 983 in iteration '131'\n",
      "Improved from 983 to 974 in iteration '137'\n"
     ]
    }
   ],
   "source": [
    "iter_best = best_shifts\n",
    "no_improvement_iters = 0\n",
    "\n",
    "for i in 1:ITERATION_NUM\n",
    "    nbhd = Neighborhood(iter_best[1])\n",
    "    nghd_scores = map(shifts -> score((workers, shifts), month_info, workers_info), nbhd)\n",
    "    iter_best_idx = findfirst(nghd_scores .== minimum(nghd_scores))\n",
    "    iter_best = (nbhd[iter_best_idx], nghd_scores[iter_best_idx])\n",
    "    \n",
    "    no_improvement_iters += 1\n",
    "    \n",
    "    if best_shifts[2] > iter_best[2]\n",
    "        println(\"Improved from $(best_shifts[2]) to $(iter_best[2]) in iteration '$(i)'\")\n",
    "        global no_improvement_iters = 0\n",
    "        global best_shifts = iter_best\n",
    "    end\n",
    "    if no_improvement_iters > 20\n",
    "        println(\"Local minimum! Stopping in iteration '$(i)'\")\n",
    "        break\n",
    "    end\n",
    "end"
   ]
  },
  {
   "cell_type": "code",
   "execution_count": null,
   "metadata": {},
   "outputs": [],
   "source": [
    "with_logger(logger) do\n",
    "    score((workers, best_shifts[1]), month_info, workers_info)\n",
    "end"
   ]
  }
 ],
 "metadata": {
  "kernelspec": {
   "display_name": "Julia 1.5.0",
   "language": "julia",
   "name": "julia-1.5"
  },
  "language_info": {
   "file_extension": ".jl",
   "mimetype": "application/julia",
   "name": "julia",
   "version": "1.5.0"
  }
 },
 "nbformat": 4,
 "nbformat_minor": 1
}
