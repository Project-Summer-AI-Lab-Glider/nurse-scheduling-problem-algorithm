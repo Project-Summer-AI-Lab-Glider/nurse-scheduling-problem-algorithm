{
 "cells": [
  {
   "cell_type": "code",
   "execution_count": 0,
   "metadata": {
    "collapsed": true
   },
   "outputs": [],
   "source": [
    "println(\"xxx\")"
   ]
  }
 ],
 "metadata": {
  "kernelspec": {
   "name": "julia-1.5",
   "language": "julia",
   "display_name": "Julia 1.5.0"
  },
  "language_info": {
   "codemirror_mode": {
    "name": "ipython",
    "version": 2
   },
   "file_extension": ".py",
   "mimetype": "text/x-python",
   "name": "python",
   "nbconvert_exporter": "python",
   "pygments_lexer": "ipython2",
   "version": "2.7.6"
  }
 },
 "nbformat": 4,
 "nbformat_minor": 0
}